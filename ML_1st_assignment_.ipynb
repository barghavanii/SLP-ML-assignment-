{
  "nbformat": 4,
  "nbformat_minor": 0,
  "metadata": {
    "colab": {
      "provenance": []
    },
    "kernelspec": {
      "name": "python3",
      "display_name": "Python 3"
    },
    "language_info": {
      "name": "python"
    }
  },
  "cells": [
    {
      "cell_type": "code",
      "execution_count": 9,
      "metadata": {
        "colab": {
          "base_uri": "https://localhost:8080/",
          "height": 1000
        },
        "id": "w6a_eDGEs-H6",
        "outputId": "2a69039d-ea0f-4a73-fdd1-f5287c3ba7fd"
      },
      "outputs": [
        {
          "output_type": "stream",
          "name": "stdout",
          "text": [
            "dotProduct(w,p0) =  0\n",
            "dotProduct(w,p1) =  0\n",
            "dotProduct(w,p2) =  0\n",
            "dotProduct(w,p3) =  0\n",
            "strp: p2\n",
            "y =  1\n",
            "Dot product =  0\n",
            "We have chosen ('p2', 1) because this point is misclassified\n",
            "dotProduct of p2 and w is 0 while y of p2 is positive\n",
            "new w= [0.2, 0.2, 0.0]\n",
            "strp: p1\n",
            "y =  1\n",
            "Dot product =  0.2\n",
            "strp: p2\n",
            "y =  1\n",
            "Dot product =  0.4\n",
            "strp: p0\n",
            "y =  1\n",
            "Dot product =  0.2\n",
            "strp: p3\n",
            "y =  -1\n",
            "Dot product =  0.4\n",
            "We have chosen ('p3', -1) because this point is misclassified\n",
            "dotProduct of p3 and w is 0.4 while y of p3 is negative\n",
            "new w= [-0.07999999999999996, -0.07999999999999996, -0.27999999999999997]\n",
            "strp: p0\n",
            "y =  1\n",
            "Dot product =  -0.07999999999999996\n",
            "We have chosen ('p0', 1) because this point is misclassified\n",
            "dotProduct of p0 and w is -0.07999999999999996 while y of p0 is positive\n",
            "new w= [0.13600000000000007, -0.07999999999999996, -0.27999999999999997]\n",
            "strp: p2\n",
            "y =  1\n",
            "Dot product =  0.056000000000000105\n",
            "strp: p3\n",
            "y =  -1\n",
            "Dot product =  -0.22399999999999987\n",
            "We have chosen ('p3', -1) because this point is misclassified\n",
            "dotProduct of p3 and w is -0.22399999999999987 while y of p3 is negative\n",
            "new w= [-0.019199999999999967, -0.2352, -0.43520000000000003]\n",
            "strp: p1\n",
            "y =  1\n",
            "Dot product =  -0.4544\n",
            "We have chosen ('p1', 1) because this point is misclassified\n",
            "dotProduct of p1 and w is -0.4544 while y of p1 is positive\n",
            "new w= [0.27168000000000003, -0.2352, -0.14432]\n"
          ]
        },
        {
          "output_type": "display_data",
          "data": {
            "text/plain": [
              "<Figure size 432x288 with 1 Axes>"
            ],
            "image/png": "[encoded data removed]"
          },
          "metadata": {
            "needs_background": "light"
          }
        },
        {
          "output_type": "stream",
          "name": "stdout",
          "text": [
            "Done after 5\n",
            "Done! :)\n"
          ]
        }
      ],
      "source": [
        "import matplotlib.pyplot as plt\n",
        "import random\n",
        "import time\n",
        "import numpy as np\n",
        "def dotProduct (p1,p2):\n",
        "  return np.dot(p1,p2)\n",
        "\n",
        "\n",
        "\n",
        "def sign(y):\n",
        "  if y>0:\n",
        "    return \"positive\"\n",
        "  else:\n",
        "    return \"negative\"\n",
        "\n",
        "\n",
        "p0 = [1, 0, 0]\n",
        "y0 = 1\n",
        "\n",
        "p1 = [1, 0, 1]\n",
        "y1 = 1\n",
        "\n",
        "p2 = [1, 1, 0]\n",
        "y2 = 1\n",
        "\n",
        "p3 = [1, 1, 1]\n",
        "y3 = -1\n",
        "\n",
        "w = [0, 0,0]\n",
        "learning_rate=0.2\n",
        "it=0\n",
        "\n",
        "def act_func(y):\n",
        "  if y >=0:\n",
        "    o = 1\n",
        "  else:\n",
        "    o = -1\n",
        "  return o\n",
        "\n",
        "print(\"dotProduct(w,p0) = \", dotProduct(w,p0))\n",
        "print(\"dotProduct(w,p1) = \", dotProduct(w,p1))\n",
        "print(\"dotProduct(w,p2) = \", dotProduct(w,p2))\n",
        "print(\"dotProduct(w,p3) = \", dotProduct(w,p3))\n",
        "while not(dotProduct(w,p0)>=0 and dotProduct(w,p1)>=0 and dotProduct(w,p2)>=0 and dotProduct(w,p3) <0): \n",
        "  # it +=1\n",
        "  (strp,p,y) =random.choice([(\"p0\",p0,y0),(\"p1\",p1,y1),(\"p2\",p2,y2),(\"p3\",p3,y3)])  # Dataset [sample, label]  # strp: tag\n",
        "  # p: sample\n",
        "  # y: label\n",
        "  print(\"strp:\", strp)\n",
        "  print(\"y = \", y)\n",
        "  # print(\"sample = \", p)\n",
        "  # continue\n",
        "  print(\"Dot product = \", dotProduct(w, p))\n",
        "  out = dotProduct(w, p) # y^\n",
        "\n",
        "  # Err = act_func(out) - y  # 1 - 1 = 0; 1 - (-1) = 2; -1 -(-1) = 0\n",
        "  if ( dotProduct(w, p) > 0 and y > 0):\n",
        "    continue\n",
        "  it +=1\n",
        "  print(\"We have chosen\", (strp,y), \"because this point is misclassified\")\n",
        "  print(\"dotProduct of\", strp, \"and w is\", dotProduct(p,w), \"while y of\", strp, \"is\", sign(y))\n",
        "  w = [w[i] + learning_rate * (y - out) * p[i] for i in range(3)]\n",
        "  print(\"new w=\", w)\n",
        "  \n",
        "if (w[2]!=0):\n",
        "    plt.plot([0,1],[-w[0]/w[2],(-w[0]-w[1])/w[2]],'k')\n",
        "else:\n",
        "  if(w[1]!=0):\n",
        "    plt.plot([-w[0]/w[1],-w[0]/w[1]],[0,1],'k')\n",
        "\n",
        "  # plt.plot([0,0],[0,1],'k')\n",
        "plt.annotate('p0',(0,0))\n",
        "plt.annotate('p1',(0,1))\n",
        "plt.annotate('p2',(1,0))\n",
        "plt.annotate('p3',(1,1))\n",
        "plt.scatter(0,0,marker='o',color='b')\n",
        "plt.scatter(0,1,marker='o',color='b')\n",
        "plt.scatter(1,0,marker='s',color='b')\n",
        "plt.scatter(1,1,marker='s',color='r')\n",
        "plt.show()\n",
        "# print(\"Now\", strp, \"is well classified\")\n",
        "# print(\"dotProduct of p and w =\", dotProduct(p,w), \"while y is\",sign(y))\n",
        "print('Done after {}'.format(it))\n",
        "print(\"Done! :)\")\n",
        "  "
      ]
    },
    {
      "cell_type": "code",
      "source": [],
      "metadata": {
        "id": "MAf_1QeJXUgH"
      },
      "execution_count": null,
      "outputs": []
    }
  ]
}